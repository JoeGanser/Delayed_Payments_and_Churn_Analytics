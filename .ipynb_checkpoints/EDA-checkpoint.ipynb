{
 "cells": [
  {
   "cell_type": "code",
   "execution_count": 73,
   "metadata": {},
   "outputs": [],
   "source": [
    "import pandas as pd\n",
    "a = pd.read_csv('accounts.csv')\n",
    "c = pd.read_csv('contracts.csv')\n",
    "c['closingDate'] = pd.to_datetime(c['closingDate'])\n",
    "c['paymentDate'] = pd.to_datetime(c['paymentDate'])\n",
    "c['accountID'] = c['contractID'].apply(lambda x:x.split('-')[1])\n",
    "c['number'] = c['contractID'].apply(lambda x:x.split('-')[2])\n",
    "def days_between(d1, d2):\n",
    "    return (d2 - d1).days\n",
    "c['days_passed'] = c[['closingDate','paymentDate']].apply(lambda row: days_between(row.closingDate,row.paymentDate),axis=1)\n",
    "df = pd.merge(a,c,on='accountID')\n",
    "df = df.sort_values(by='closingDate').reset_index().drop('index',axis=1)"
   ]
  },
  {
   "cell_type": "code",
   "execution_count": 90,
   "metadata": {},
   "outputs": [
    {
     "data": {
      "text/plain": [
       "'2018-10-27'"
      ]
     },
     "execution_count": 90,
     "metadata": {},
     "output_type": "execute_result"
    }
   ],
   "source": [
    "from datetime import datetime, timedelta\n",
    "def date_minus_days(date,days):\n",
    "    date_format = \"%Y-%m-%d\"\n",
    "    date1 = datetime.strptime(date, date_format)\n",
    "    return (date1 - timedelta(days)).date().strftime(\"%Y-%m-%d\")\n",
    "date_minus_days('2018-12-11',45)"
   ]
  },
  {
   "cell_type": "code",
   "execution_count": 126,
   "metadata": {},
   "outputs": [],
   "source": [
    "df_45_18 = df[(df['closingDate']<=date_minus_days('2018-12-11',45)) & (df['paymentDate'].isnull())]\n",
    "df_45_18 = df_45_18[['region','contractSize']].groupby('region').sum()"
   ]
  },
  {
   "cell_type": "markdown",
   "metadata": {},
   "source": [
    "Select all rows where closing date was in 2017\n"
   ]
  },
  {
   "cell_type": "code",
   "execution_count": 165,
   "metadata": {},
   "outputs": [
    {
     "data": {
      "text/html": [
       "<div>\n",
       "<style scoped>\n",
       "    .dataframe tbody tr th:only-of-type {\n",
       "        vertical-align: middle;\n",
       "    }\n",
       "\n",
       "    .dataframe tbody tr th {\n",
       "        vertical-align: top;\n",
       "    }\n",
       "\n",
       "    .dataframe thead th {\n",
       "        text-align: right;\n",
       "    }\n",
       "</style>\n",
       "<table border=\"1\" class=\"dataframe\">\n",
       "  <thead>\n",
       "    <tr style=\"text-align: right;\">\n",
       "      <th></th>\n",
       "      <th>region</th>\n",
       "      <th>2017_Paid_45_90days</th>\n",
       "      <th>2017_Paid_90_135days</th>\n",
       "      <th>2017_Paid_135days</th>\n",
       "    </tr>\n",
       "  </thead>\n",
       "  <tbody>\n",
       "    <tr>\n",
       "      <th>0</th>\n",
       "      <td>APAC</td>\n",
       "      <td>10237.0</td>\n",
       "      <td>32036.0</td>\n",
       "      <td>1521.0</td>\n",
       "    </tr>\n",
       "    <tr>\n",
       "      <th>1</th>\n",
       "      <td>Africa</td>\n",
       "      <td>3030.0</td>\n",
       "      <td>8936.0</td>\n",
       "      <td>0.0</td>\n",
       "    </tr>\n",
       "    <tr>\n",
       "      <th>2</th>\n",
       "      <td>EMEA</td>\n",
       "      <td>40759.0</td>\n",
       "      <td>40891.0</td>\n",
       "      <td>1259.0</td>\n",
       "    </tr>\n",
       "    <tr>\n",
       "      <th>3</th>\n",
       "      <td>Latin America</td>\n",
       "      <td>2904.0</td>\n",
       "      <td>7605.0</td>\n",
       "      <td>230.0</td>\n",
       "    </tr>\n",
       "    <tr>\n",
       "      <th>4</th>\n",
       "      <td>North America</td>\n",
       "      <td>29022.0</td>\n",
       "      <td>46410.0</td>\n",
       "      <td>1239.0</td>\n",
       "    </tr>\n",
       "  </tbody>\n",
       "</table>\n",
       "</div>"
      ],
      "text/plain": [
       "          region  2017_Paid_45_90days  2017_Paid_90_135days  2017_Paid_135days\n",
       "0           APAC              10237.0               32036.0             1521.0\n",
       "1         Africa               3030.0                8936.0                0.0\n",
       "2           EMEA              40759.0               40891.0             1259.0\n",
       "3  Latin America               2904.0                7605.0              230.0\n",
       "4  North America              29022.0               46410.0             1239.0"
      ]
     },
     "execution_count": 165,
     "metadata": {},
     "output_type": "execute_result"
    }
   ],
   "source": [
    "from functools import reduce\n",
    "df_2017 = df[(df['closingDate']<'2018-01-01')&(df['closingDate']>='2017-01-01')]\n",
    "df_2017_4590 = df_2017[(df_2017['days_passed']>=45)&(df_2017['days_passed']<90)]\n",
    "df_2017_4590 = df_2017_4590[['region','contractSize']].groupby('region').sum().reset_index()\n",
    "df_2017_90135 = df_2017[(df_2017['days_passed']>=90)&(df_2017['days_passed']<135)]\n",
    "df_2017_90135 = df_2017_90135[['region','contractSize']].groupby('region').sum().reset_index()\n",
    "df_2017_135 = df_2017[(df_2017['days_passed']>135)]\n",
    "df_2017_135 = df_2017_135[['region','contractSize']].groupby('region').sum().reset_index()\n",
    "df_2017_4590.columns = ['region','2017_Paid_45_90days']\n",
    "df_2017_90135.columns = ['region','2017_Paid_90_135days']\n",
    "df_2017_135.columns = ['region','2017_Paid_135days']\n",
    "l_2017 = [df_2017_4590,df_2017_90135,df_2017_135]\n",
    "late_payments_2017 = reduce(lambda x, y: pd.merge(x, y, on = 'region',how='outer'), l_2017)\n",
    "late_payments_2017.fillna(0,inplace=True)\n",
    "late_payments_2017"
   ]
  },
  {
   "cell_type": "code",
   "execution_count": 166,
   "metadata": {},
   "outputs": [
    {
     "data": {
      "text/html": [
       "<div>\n",
       "<style scoped>\n",
       "    .dataframe tbody tr th:only-of-type {\n",
       "        vertical-align: middle;\n",
       "    }\n",
       "\n",
       "    .dataframe tbody tr th {\n",
       "        vertical-align: top;\n",
       "    }\n",
       "\n",
       "    .dataframe thead th {\n",
       "        text-align: right;\n",
       "    }\n",
       "</style>\n",
       "<table border=\"1\" class=\"dataframe\">\n",
       "  <thead>\n",
       "    <tr style=\"text-align: right;\">\n",
       "      <th></th>\n",
       "      <th>region</th>\n",
       "      <th>2018_Paid_45_days</th>\n",
       "      <th>2018_Paid_90_days</th>\n",
       "      <th>2018_Paid_135days</th>\n",
       "    </tr>\n",
       "  </thead>\n",
       "  <tbody>\n",
       "    <tr>\n",
       "      <th>0</th>\n",
       "      <td>APAC</td>\n",
       "      <td>4331.0</td>\n",
       "      <td>525.0</td>\n",
       "      <td>0.0</td>\n",
       "    </tr>\n",
       "    <tr>\n",
       "      <th>1</th>\n",
       "      <td>Africa</td>\n",
       "      <td>1235.0</td>\n",
       "      <td>197.0</td>\n",
       "      <td>0.0</td>\n",
       "    </tr>\n",
       "    <tr>\n",
       "      <th>2</th>\n",
       "      <td>EMEA</td>\n",
       "      <td>10419.0</td>\n",
       "      <td>1889.0</td>\n",
       "      <td>0.0</td>\n",
       "    </tr>\n",
       "    <tr>\n",
       "      <th>3</th>\n",
       "      <td>Latin America</td>\n",
       "      <td>878.0</td>\n",
       "      <td>172.0</td>\n",
       "      <td>0.0</td>\n",
       "    </tr>\n",
       "    <tr>\n",
       "      <th>4</th>\n",
       "      <td>North America</td>\n",
       "      <td>7904.0</td>\n",
       "      <td>1786.0</td>\n",
       "      <td>0.0</td>\n",
       "    </tr>\n",
       "  </tbody>\n",
       "</table>\n",
       "</div>"
      ],
      "text/plain": [
       "          region  2018_Paid_45_days  2018_Paid_90_days  2018_Paid_135days\n",
       "0           APAC             4331.0              525.0                0.0\n",
       "1         Africa             1235.0              197.0                0.0\n",
       "2           EMEA            10419.0             1889.0                0.0\n",
       "3  Latin America              878.0              172.0                0.0\n",
       "4  North America             7904.0             1786.0                0.0"
      ]
     },
     "execution_count": 166,
     "metadata": {},
     "output_type": "execute_result"
    }
   ],
   "source": [
    "df_45_18 = df[(df['closingDate']<=date_minus_days('2018-12-11',45)) & (df['paymentDate'].isnull())]\n",
    "df_45_18 = df_45_18[['region','contractSize']].groupby('region').sum().reset_index()\n",
    "df_90_18 = df[(df['closingDate']<=date_minus_days('2018-12-11',90)) & (df['paymentDate'].isnull())]\n",
    "df_90_18 = df_90_18[['region','contractSize']].groupby('region').sum().reset_index()\n",
    "df_135_18 = df[(df['closingDate']<=date_minus_days('2018-12-11',135)) & (df['paymentDate'].isnull())]\n",
    "df_135_18 = df_135_18[['region','contractSize']].groupby('region').sum().reset_index()\n",
    "\n",
    "df_45_18.columns = ['region','2018_Paid_45_days']\n",
    "df_90_18.columns = ['region','2018_Paid_90_days']\n",
    "df_135_18.columns = ['region','2018_Paid_135days']\n",
    "\n",
    "l_2018 = [df_45_18,df_90_18,df_135_18]\n",
    "late_payments_2018 = reduce(lambda x, y: pd.merge(x, y, on = 'region',how='outer'), l_2018)\n",
    "late_payments_2018.fillna(0,inplace=True)\n",
    "late_payments_2018"
   ]
  },
  {
   "cell_type": "markdown",
   "metadata": {},
   "source": [
    "The accounts table looks relatively clean."
   ]
  }
 ],
 "metadata": {
  "kernelspec": {
   "display_name": "Python 3",
   "language": "python",
   "name": "python3"
  },
  "language_info": {
   "codemirror_mode": {
    "name": "ipython",
    "version": 3
   },
   "file_extension": ".py",
   "mimetype": "text/x-python",
   "name": "python",
   "nbconvert_exporter": "python",
   "pygments_lexer": "ipython3",
   "version": "3.6.4"
  }
 },
 "nbformat": 4,
 "nbformat_minor": 2
}
