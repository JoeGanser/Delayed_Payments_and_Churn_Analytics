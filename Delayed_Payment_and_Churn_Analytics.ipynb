{
 "cells": [
  {
   "cell_type": "markdown",
   "metadata": {},
   "source": [
    "# Delayed Payments and Churn Analytics\n",
    "By Joe Ganser\n"
   ]
  },
  {
   "cell_type": "markdown",
   "metadata": {},
   "source": [
    "### **Introduction**\n",
    "\n",
    "Data on 6092 contracts (consisting of 3000 customers) across a time spanning between January 1st 2013 to December 11th 2018 were studied.\n",
    "    \n",
    "Two objectives were to be met:\n",
    "\n",
    "* Analyze the late payment trends by region and year.\n",
    "\n",
    "* Examine what factors were involved in causing a customer to churn.\n"
   ]
  },
  {
   "cell_type": "markdown",
   "metadata": {},
   "source": [
    "### Data Description\n",
    "The data itself was a joining of two sources: account records and contract records. \n",
    "Accounts described each customer featuring columns such as;\n",
    "\n",
    "* The customer’s geographic region\n",
    "* Whether or not they had a vendor partner involved.\n",
    "\n",
    "Contracts described the deal, featuring columns such as\n",
    "* Date of deal closure\n",
    "* The size of the deal (in thousands of ARR)\n",
    "* Length of the deal (in years)\n",
    "* Date payment was received\n"
   ]
  },
  {
   "cell_type": "markdown",
   "metadata": {},
   "source": [
    "### Late Payments\n",
    "An issue that had been addressed was the payment delays. If a payment was not made to an account within 45 days of closure, notices were sent out. It was the task of this analysis to understand how this notification process effected payment delays by each region, across the years of 2017 to 2018.\n",
    "\n",
    "So how did the notification process effect the promptness of payment? Take a look at these three graphs; \n"
   ]
  },
  {
   "cell_type": "markdown",
   "metadata": {},
   "source": [
    "<img src='https://raw.githubusercontent.com/JoeGanser/Delayed_Payments_and_Churn_Analytics/master/images/late45.png'>\n",
    "\n",
    "\n",
    "<img src=\"https://raw.githubusercontent.com/JoeGanser/Delayed_Payments_and_Churn_Analytics/master/images/late90.png\">\n",
    "\n",
    "\n",
    "<img \n",
    "src = \"https://raw.githubusercontent.com/JoeGanser/Delayed_Payments_and_Churn_Analytics/master/images/late135.png\">"
   ]
  },
  {
   "cell_type": "markdown",
   "metadata": {},
   "source": [
    "Clearly, the delayed payment rate is dropping. For each region,  across 2017 to 2018, the amount of money paid late has dropped between 30-36% for 45 day delays, dropping 30%-52% for 90 day delays and dropping 50-100% for 135 days (with the exception of two outliers)."
   ]
  },
  {
   "cell_type": "markdown",
   "metadata": {},
   "source": [
    "### Churning Customers\n",
    "The length of the contract for each customer was measured in the units of years. Because of this, an “annual” or “quarterly” churn rate calculation would be inappropriate. Thus, the churn rate was calculated across the entire interval of five years.\n",
    "\n",
    "How were churning customers identified? If a customer churned, they only had one contract, and therefore only one contract closure date associated with their account. *It was identified that out of 3000 accounts, 1069 churned making for a 35.63% churn rate between 2013-2018*.\n"
   ]
  },
  {
   "cell_type": "markdown",
   "metadata": {},
   "source": [
    "### Factors effecting churn\n",
    "\n",
    "It was determined that the *region had no impact* as to whether or not they churned. However, the important factors as to determining a churning customer were;\n",
    "* If a partner was involved\n",
    "* The length of contract (1,2 or 3 years)\n",
    "* The size of the contract in thousands ARR\n",
    "\n",
    "These conclusions were made using statistical hypothesis testing and can also be\n",
    "observed graphically. Considering the following graphs, the hypothesis tests make sense:\n"
   ]
  },
  {
   "cell_type": "code",
   "execution_count": null,
   "metadata": {},
   "outputs": [],
   "source": []
  },
  {
   "cell_type": "markdown",
   "metadata": {},
   "source": [
    "As you can see, the distribution of regions amongst churners versus renewals is the same."
   ]
  },
  {
   "cell_type": "code",
   "execution_count": null,
   "metadata": {},
   "outputs": [],
   "source": []
  },
  {
   "cell_type": "markdown",
   "metadata": {},
   "source": [
    "The distributions of partner involvement of churners versus renewals are clearly different."
   ]
  },
  {
   "cell_type": "code",
   "execution_count": null,
   "metadata": {},
   "outputs": [],
   "source": []
  },
  {
   "cell_type": "markdown",
   "metadata": {},
   "source": [
    "The distribution of contract length was significantly different between churners versus renewals."
   ]
  },
  {
   "cell_type": "code",
   "execution_count": null,
   "metadata": {},
   "outputs": [],
   "source": []
  },
  {
   "cell_type": "markdown",
   "metadata": {},
   "source": [
    "Contract size distributions may be similar in shape, but the average values differ significantly. (Churner average 118.39k ARR, renewal average was 151.52k ARR)."
   ]
  },
  {
   "cell_type": "markdown",
   "metadata": {},
   "source": [
    "### Conclusions\n",
    "* Churners tended to have longer contracts but smaller sizes\n",
    "* Churners had a partner involved more frequently than renewals.\n",
    "* Late payments are dropping by at least 30% per region.\n"
   ]
  },
  {
   "cell_type": "markdown",
   "metadata": {},
   "source": [
    "**Code Links**\n",
    "* Code for Late payment analysis\n",
    "* Code for churner graphs\n",
    "* Code for hypothesis testing on churn factors.\n"
   ]
  }
 ],
 "metadata": {
  "kernelspec": {
   "display_name": "Python 3",
   "language": "python",
   "name": "python3"
  },
  "language_info": {
   "codemirror_mode": {
    "name": "ipython",
    "version": 3
   },
   "file_extension": ".py",
   "mimetype": "text/x-python",
   "name": "python",
   "nbconvert_exporter": "python",
   "pygments_lexer": "ipython3",
   "version": "3.6.4"
  }
 },
 "nbformat": 4,
 "nbformat_minor": 2
}
