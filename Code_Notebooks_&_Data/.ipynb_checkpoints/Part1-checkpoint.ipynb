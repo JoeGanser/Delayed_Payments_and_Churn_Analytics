{
 "cells": [
  {
   "cell_type": "code",
   "execution_count": 2,
   "metadata": {},
   "outputs": [
    {
     "name": "stdout",
     "output_type": "stream",
     "text": [
      "Total sum of payments paid 45,90 and 135 days later for 2017 and 2018 for each region\n"
     ]
    },
    {
     "data": {
      "text/html": [
       "<div>\n",
       "<style scoped>\n",
       "    .dataframe tbody tr th:only-of-type {\n",
       "        vertical-align: middle;\n",
       "    }\n",
       "\n",
       "    .dataframe tbody tr th {\n",
       "        vertical-align: top;\n",
       "    }\n",
       "\n",
       "    .dataframe thead th {\n",
       "        text-align: right;\n",
       "    }\n",
       "</style>\n",
       "<table border=\"1\" class=\"dataframe\">\n",
       "  <thead>\n",
       "    <tr style=\"text-align: right;\">\n",
       "      <th></th>\n",
       "      <th>region</th>\n",
       "      <th>&gt;45dayslate17</th>\n",
       "      <th>&gt;90dayslate17</th>\n",
       "      <th>&gt;135dayslate17</th>\n",
       "      <th>&gt;45dayslate18</th>\n",
       "      <th>&gt;90dayslate18</th>\n",
       "      <th>&gt;135dayslate18</th>\n",
       "    </tr>\n",
       "  </thead>\n",
       "  <tbody>\n",
       "    <tr>\n",
       "      <th>0</th>\n",
       "      <td>APAC</td>\n",
       "      <td>43944.0</td>\n",
       "      <td>32899.0</td>\n",
       "      <td>1521.0</td>\n",
       "      <td>29383.0</td>\n",
       "      <td>15616.0</td>\n",
       "      <td>504.0</td>\n",
       "    </tr>\n",
       "    <tr>\n",
       "      <th>1</th>\n",
       "      <td>Africa</td>\n",
       "      <td>11966.0</td>\n",
       "      <td>8801.0</td>\n",
       "      <td>0.0</td>\n",
       "      <td>7650.0</td>\n",
       "      <td>4722.0</td>\n",
       "      <td>427.0</td>\n",
       "    </tr>\n",
       "    <tr>\n",
       "      <th>2</th>\n",
       "      <td>EMEA</td>\n",
       "      <td>82829.0</td>\n",
       "      <td>40497.0</td>\n",
       "      <td>1259.0</td>\n",
       "      <td>57484.0</td>\n",
       "      <td>23540.0</td>\n",
       "      <td>246.0</td>\n",
       "    </tr>\n",
       "    <tr>\n",
       "      <th>3</th>\n",
       "      <td>Latin America</td>\n",
       "      <td>10739.0</td>\n",
       "      <td>7605.0</td>\n",
       "      <td>230.0</td>\n",
       "      <td>7857.0</td>\n",
       "      <td>5329.0</td>\n",
       "      <td>0.0</td>\n",
       "    </tr>\n",
       "    <tr>\n",
       "      <th>4</th>\n",
       "      <td>North America</td>\n",
       "      <td>76901.0</td>\n",
       "      <td>46693.0</td>\n",
       "      <td>1239.0</td>\n",
       "      <td>53960.0</td>\n",
       "      <td>26595.0</td>\n",
       "      <td>591.0</td>\n",
       "    </tr>\n",
       "  </tbody>\n",
       "</table>\n",
       "</div>"
      ],
      "text/plain": [
       "          region  >45dayslate17  >90dayslate17  >135dayslate17  >45dayslate18  \\\n",
       "0           APAC        43944.0        32899.0          1521.0        29383.0   \n",
       "1         Africa        11966.0         8801.0             0.0         7650.0   \n",
       "2           EMEA        82829.0        40497.0          1259.0        57484.0   \n",
       "3  Latin America        10739.0         7605.0           230.0         7857.0   \n",
       "4  North America        76901.0        46693.0          1239.0        53960.0   \n",
       "\n",
       "   >90dayslate18  >135dayslate18  \n",
       "0        15616.0           504.0  \n",
       "1         4722.0           427.0  \n",
       "2        23540.0           246.0  \n",
       "3         5329.0             0.0  \n",
       "4        26595.0           591.0  "
      ]
     },
     "execution_count": 2,
     "metadata": {},
     "output_type": "execute_result"
    }
   ],
   "source": [
    "import pandas as pd\n",
    "from datetime import datetime, timedelta\n",
    "from functools import reduce\n",
    "import matplotlib.pyplot as plt\n",
    "\n",
    "a = pd.read_csv('accounts.csv')\n",
    "c = pd.read_csv('contracts.csv')\n",
    "c['closingDate'] = pd.to_datetime(c['closingDate'])\n",
    "c['paymentDate'] = pd.to_datetime(c['paymentDate'])\n",
    "c['accountID'] = c['contractID'].apply(lambda x:x.split('-')[1])\n",
    "c['number'] = c['contractID'].apply(lambda x:x.split('-')[2])\n",
    "def days_between(d1, d2):\n",
    "    return (d2 - d1).days\n",
    "c['days_passed'] = c[['closingDate','paymentDate']].apply(lambda row: days_between(row.closingDate,row.paymentDate),axis=1)\n",
    "df = pd.merge(a,c,on='accountID')\n",
    "df = df.sort_values(by='closingDate').reset_index().drop('index',axis=1)\n",
    "\n",
    "from datetime import datetime, timedelta\n",
    "def date_minus_days(date,days):\n",
    "    date_format = \"%Y-%m-%d\"\n",
    "    date1 = datetime.strptime(date, date_format)\n",
    "    return (date1 - timedelta(days)).date().strftime(\"%Y-%m-%d\")\n",
    "\n",
    "df = df[['region','closingDate','contractSize','paymentDate','days_passed']]\n",
    "df2017 = df[(df['closingDate']>='2017-01-01')&(df['closingDate']<'2018-01-01')]\n",
    "df2018 =df[(df['closingDate']>='2018-01-01')]\n",
    "\n",
    "\n",
    "condition1_2018_45days = (df2018['days_passed']>45)\n",
    "condition2_2018_45days = (df2018['closingDate']<date_minus_days('2018-12-11',45)) & (df2018['paymentDate'].isnull())\n",
    "df2018_45 = df2018[condition1_2018_45days|condition2_2018_45days][['region','contractSize']].groupby('region').sum()\n",
    "df2018_45.columns = ['>45dayslate18']\n",
    "df2018_45.reset_index(inplace=True)\n",
    "\n",
    "condition1_2018_90days = (df2018['days_passed']>90)\n",
    "condition2_2018_90days = (df2018['closingDate']<date_minus_days('2018-12-11',90)) & (df2018['paymentDate'].isnull())\n",
    "df2018_90 = df2018[condition1_2018_90days|condition2_2018_90days][['region','contractSize']].groupby('region').sum()\n",
    "df2018_90.columns = ['>90dayslate18']\n",
    "df2018_90.reset_index(inplace=True)\n",
    "\n",
    "condition1_2018_135days = (df2018['days_passed']>135)\n",
    "condition2_2018_135days = (df2018['closingDate']<date_minus_days('2018-12-11',135)) & (df2018['paymentDate'].isnull())\n",
    "df2018_135 = df2018[condition1_2018_135days|condition2_2018_135days][['region','contractSize']].groupby('region').sum()\n",
    "df2018_135.columns = ['>135dayslate18']\n",
    "df2018_135.reset_index(inplace=True)\n",
    "\n",
    "l2018 = [df2018_45,df2018_90,df2018_135]\n",
    "late_payments_2018 = reduce(lambda x, y: pd.merge(x, y,how='outer'), l2018).fillna(0)\n",
    "\n",
    "\n",
    "df2017_45 = df2017[df2017['days_passed']>45][['region','contractSize']].groupby('region').sum()\n",
    "df2017_45.columns = ['>45dayslate17']\n",
    "df2017_45.reset_index(inplace=True)\n",
    "\n",
    "df2017_90 = df2017[df2017['days_passed']>90][['region','contractSize']].groupby('region').sum()\n",
    "df2017_90.columns = ['>90dayslate17']\n",
    "df2017_90.reset_index(inplace=True)\n",
    "\n",
    "df2017_135 = df2017[df2017['days_passed']>135][['region','contractSize']].groupby('region').sum()\n",
    "df2017_135.columns = ['>135dayslate17']\n",
    "df2017_135.reset_index(inplace=True)\n",
    "\n",
    "l2017 = [df2017_45,df2017_90,df2017_135]\n",
    "late_payments_2017 = reduce(lambda x, y: pd.merge(x, y,how='outer'), l2017).fillna(0)\n",
    "\n",
    "data = pd.merge(late_payments_2017,late_payments_2018)\n",
    "print(\"Total sum of payments paid 45,90 and 135 days later for 2017 and 2018 for each region\")\n",
    "data"
   ]
  },
  {
   "cell_type": "code",
   "execution_count": 63,
   "metadata": {},
   "outputs": [
    {
     "name": "stdout",
     "output_type": "stream",
     "text": [
      "-44.8%\n",
      "                  2017     2018 %change\n",
      "region                                 \n",
      "APAC           43944.0  29383.0  -33.1%\n",
      "Africa         11966.0   7650.0  -36.1%\n",
      "EMEA           82829.0  57484.0  -30.6%\n",
      "Latin America  10739.0   7857.0  -26.8%\n",
      "North America  76901.0  53960.0  -29.8%\n"
     ]
    },
    {
     "data": {
      "image/png": "[encoded data removed]",
      "text/plain": [
       "<matplotlib.figure.Figure at 0x11d3f70b8>"
      ]
     },
     "metadata": {},
     "output_type": "display_data"
    }
   ],
   "source": [
    "import matplotlib.pyplot as plt\n",
    "\n",
    "\n",
    "def percent_change(x,y):\n",
    "    change = str(round(100*(y-x)/x,1))\n",
    "    return change+'%'\n",
    "\n",
    "\n",
    "plotdata['%change'] = plotdata[['2017','2018']].apply(lambda column: percent_change(column['2017'],column['2018']),axis=1)\n",
    "plotdata\n",
    "\n",
    "def bar_plot(col1,col2,title):\n",
    "    d1 = list(data[col1])\n",
    "    d2 = list(data[col2])\n",
    "    \n",
    "    plotdata = pd.DataFrame({'2017':d1,'2018':d2},index=data['region'])\n",
    "    plotdata['%change'] = plotdata[['2017','2018']].apply(lambda column: percent_change(column['2017'],column['2018']),axis=1)\n",
    "\n",
    "    plotdata[['2017','2018']].plot.bar()\n",
    "    plt.title(title)\n",
    "    plt.ylabel('thousands ARR')\n",
    "    change = round(100*(plotdata['2018'].sum()-plotdata['2017'].sum())/plotdata['2018'].sum(),2)\n",
    "    print(str(change)+'%')\n",
    "    print(plotdata)\n",
    "    plt.xticks(rotation=0)\n",
    "    plt.savefig(title.replace(' ','_')+'.png')\n",
    "    plt.show()\n",
    "    \n",
    "bar_plot('>45dayslate17','>45dayslate18','Amount paid more than 45 days late')"
   ]
  },
  {
   "cell_type": "code",
   "execution_count": 64,
   "metadata": {},
   "outputs": [
    {
     "name": "stdout",
     "output_type": "stream",
     "text": [
      "-80.07%\n",
      "                  2017     2018 %change\n",
      "region                                 \n",
      "APAC           32899.0  15616.0  -52.5%\n",
      "Africa          8801.0   4722.0  -46.3%\n",
      "EMEA           40497.0  23540.0  -41.9%\n",
      "Latin America   7605.0   5329.0  -29.9%\n",
      "North America  46693.0  26595.0  -43.0%\n"
     ]
    },
    {
     "data": {
      "image/png": "[encoded data removed]",
      "text/plain": [
       "<matplotlib.figure.Figure at 0x11d3ed7f0>"
      ]
     },
     "metadata": {},
     "output_type": "display_data"
    }
   ],
   "source": [
    "bar_plot('>90dayslate17','>90dayslate18','Amount paid more than 90 days late')"
   ]
  },
  {
   "cell_type": "code",
   "execution_count": 65,
   "metadata": {},
   "outputs": [
    {
     "name": "stdout",
     "output_type": "stream",
     "text": [
      "-140.33%\n",
      "                 2017   2018  %change\n",
      "region                               \n",
      "APAC           1521.0  504.0   -66.9%\n",
      "Africa            0.0  427.0     inf%\n",
      "EMEA           1259.0  246.0   -80.5%\n",
      "Latin America   230.0    0.0  -100.0%\n",
      "North America  1239.0  591.0   -52.3%\n"
     ]
    },
    {
     "name": "stderr",
     "output_type": "stream",
     "text": [
      "/anaconda3/lib/python3.6/site-packages/ipykernel_launcher.py:5: RuntimeWarning: divide by zero encountered in double_scalars\n",
      "  \"\"\"\n"
     ]
    },
    {
     "data": {
      "image/png": "[encoded data removed]",
      "text/plain": [
       "<matplotlib.figure.Figure at 0x11d244438>"
      ]
     },
     "metadata": {},
     "output_type": "display_data"
    }
   ],
   "source": [
    "bar_plot('>135dayslate17','>135dayslate18','Amount paid more than 135 days late')"
   ]
  },
  {
   "cell_type": "code",
   "execution_count": null,
   "metadata": {},
   "outputs": [],
   "source": []
  }
 ],
 "metadata": {
  "kernelspec": {
   "display_name": "Python 3",
   "language": "python",
   "name": "python3"
  },
  "language_info": {
   "codemirror_mode": {
    "name": "ipython",
    "version": 3
   },
   "file_extension": ".py",
   "mimetype": "text/x-python",
   "name": "python",
   "nbconvert_exporter": "python",
   "pygments_lexer": "ipython3",
   "version": "3.6.4"
  }
 },
 "nbformat": 4,
 "nbformat_minor": 2
}
