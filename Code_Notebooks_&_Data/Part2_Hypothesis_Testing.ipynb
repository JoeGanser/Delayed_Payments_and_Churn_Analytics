{
 "cells": [
  {
   "cell_type": "markdown",
   "metadata": {},
   "source": [
    "# Hypothesis Testing for influences on Churn Rate"
   ]
  },
  {
   "cell_type": "markdown",
   "metadata": {},
   "source": [
    "This script uses hypothesis testing to see if whether or not a feature has an influence on if an account holder decided to churn.\n",
    "\n",
    "First we load and set up the data in the format needed for testing."
   ]
  },
  {
   "cell_type": "code",
   "execution_count": 1,
   "metadata": {},
   "outputs": [
    {
     "data": {
      "text/html": [
       "<div>\n",
       "<style scoped>\n",
       "    .dataframe tbody tr th:only-of-type {\n",
       "        vertical-align: middle;\n",
       "    }\n",
       "\n",
       "    .dataframe tbody tr th {\n",
       "        vertical-align: top;\n",
       "    }\n",
       "\n",
       "    .dataframe thead th {\n",
       "        text-align: right;\n",
       "    }\n",
       "</style>\n",
       "<table border=\"1\" class=\"dataframe\">\n",
       "  <thead>\n",
       "    <tr style=\"text-align: right;\">\n",
       "      <th></th>\n",
       "      <th>region</th>\n",
       "      <th>partnerInvolved</th>\n",
       "      <th>contractSize</th>\n",
       "      <th>contractLength</th>\n",
       "      <th>churn</th>\n",
       "    </tr>\n",
       "  </thead>\n",
       "  <tbody>\n",
       "    <tr>\n",
       "      <th>0</th>\n",
       "      <td>APAC</td>\n",
       "      <td>No</td>\n",
       "      <td>70.0</td>\n",
       "      <td>2</td>\n",
       "      <td>0</td>\n",
       "    </tr>\n",
       "    <tr>\n",
       "      <th>1</th>\n",
       "      <td>APAC</td>\n",
       "      <td>No</td>\n",
       "      <td>55.0</td>\n",
       "      <td>2</td>\n",
       "      <td>0</td>\n",
       "    </tr>\n",
       "    <tr>\n",
       "      <th>2</th>\n",
       "      <td>North America</td>\n",
       "      <td>No</td>\n",
       "      <td>95.0</td>\n",
       "      <td>1</td>\n",
       "      <td>0</td>\n",
       "    </tr>\n",
       "    <tr>\n",
       "      <th>3</th>\n",
       "      <td>North America</td>\n",
       "      <td>No</td>\n",
       "      <td>50.0</td>\n",
       "      <td>1</td>\n",
       "      <td>0</td>\n",
       "    </tr>\n",
       "    <tr>\n",
       "      <th>4</th>\n",
       "      <td>EMEA</td>\n",
       "      <td>No</td>\n",
       "      <td>50.0</td>\n",
       "      <td>1</td>\n",
       "      <td>0</td>\n",
       "    </tr>\n",
       "  </tbody>\n",
       "</table>\n",
       "</div>"
      ],
      "text/plain": [
       "          region partnerInvolved  contractSize  contractLength  churn\n",
       "0           APAC              No          70.0               2      0\n",
       "1           APAC              No          55.0               2      0\n",
       "2  North America              No          95.0               1      0\n",
       "3  North America              No          50.0               1      0\n",
       "4           EMEA              No          50.0               1      0"
      ]
     },
     "execution_count": 1,
     "metadata": {},
     "output_type": "execute_result"
    }
   ],
   "source": [
    "import pandas as pd\n",
    "from datetime import datetime, timedelta\n",
    "from functools import reduce\n",
    "import matplotlib.pyplot as plt\n",
    "\n",
    "a = pd.read_csv('accounts.csv')\n",
    "c = pd.read_csv('contracts.csv')\n",
    "c['closingDate'] = pd.to_datetime(c['closingDate'])\n",
    "c['paymentDate'] = pd.to_datetime(c['paymentDate'])\n",
    "c['accountID'] = c['contractID'].apply(lambda x:x.split('-')[1])\n",
    "c['number'] = c['contractID'].apply(lambda x:x.split('-')[2])\n",
    "def days_between(d1, d2):\n",
    "    return (d2 - d1).days\n",
    "c['days_passed'] = c[['closingDate','paymentDate']].apply(lambda row: days_between(row.closingDate,row.paymentDate),axis=1)\n",
    "df = pd.merge(a,c,on='accountID')\n",
    "df = df.sort_values(by='closingDate').reset_index().drop('index',axis=1)\n",
    "\n",
    "from datetime import datetime, timedelta\n",
    "def date_minus_days(date,days):\n",
    "    date_format = \"%Y-%m-%d\"\n",
    "    date1 = datetime.strptime(date, date_format)\n",
    "    return (date1 - timedelta(days)).date().strftime(\"%Y-%m-%d\")\n",
    "\n",
    "df = df[['closingDate','accountID','region','partnerInvolved','contractSize','contractLength']]\n",
    "cv = df[['closingDate','accountID']].groupby('accountID').count()==1\n",
    "churns = list(cv[cv['closingDate']==True].index)\n",
    "df['churn'] = df['accountID'].apply(lambda x: 1 if x in churns else 0)\n",
    "data = df[['region','partnerInvolved','contractSize','contractLength','churn']]\n",
    "data.head()"
   ]
  },
  {
   "cell_type": "markdown",
   "metadata": {},
   "source": [
    "The features of `region`, `partnerInvolved` and `contractLength` are all categorical in structure. Thus, a Chi2 test on each of these can be used to determine whether or a given feature influences churn. The null hypothesis is that there is no influence on the feature and whether or not a row has a churn in it."
   ]
  },
  {
   "cell_type": "code",
   "execution_count": 6,
   "metadata": {},
   "outputs": [],
   "source": [
    "import numpy as np\n",
    "from scipy.stats import chi2_contingency,chi2\n",
    "def chi_square_test(feature):\n",
    "    p = list(data[data['churn']==1][feature].value_counts())\n",
    "    e = list(data[data['churn']==0][feature].value_counts())\n",
    "    if len(p)-len(e)>0:\n",
    "        for k in range(len(p)-len(e)):\n",
    "            e.append(0)\n",
    "    if len(p)-len(e)<0:\n",
    "        for j in range(len(e)-len(p)):\n",
    "            p.append(0)\n",
    "    obs = np.array([p,e])\n",
    "    chi_square_stat, prob, dof, ex = chi2_contingency(obs, correction=False)\n",
    "    value = chi2.ppf(0.99,dof)\n",
    "    if (value<chi_square_stat) and (prob<0.01):\n",
    "        return \"Reject Null Hypothesis\"\n",
    "    else:\n",
    "        return \"Fail to reject Null Hypothesis\""
   ]
  },
  {
   "cell_type": "code",
   "execution_count": 7,
   "metadata": {},
   "outputs": [
    {
     "data": {
      "text/plain": [
       "'Fail to reject Null Hypothesis'"
      ]
     },
     "execution_count": 7,
     "metadata": {},
     "output_type": "execute_result"
    }
   ],
   "source": [
    "chi_square_test('region')"
   ]
  },
  {
   "cell_type": "markdown",
   "metadata": {},
   "source": [
    "So region does NOT have an impact as to whether or not they churned."
   ]
  },
  {
   "cell_type": "code",
   "execution_count": 8,
   "metadata": {},
   "outputs": [
    {
     "data": {
      "text/plain": [
       "'Reject Null Hypothesis'"
      ]
     },
     "execution_count": 8,
     "metadata": {},
     "output_type": "execute_result"
    }
   ],
   "source": [
    "chi_square_test('partnerInvolved')"
   ]
  },
  {
   "cell_type": "markdown",
   "metadata": {},
   "source": [
    "If they had a partner involved, it influenced whether or not they churned."
   ]
  },
  {
   "cell_type": "code",
   "execution_count": 9,
   "metadata": {},
   "outputs": [
    {
     "data": {
      "text/plain": [
       "'Reject Null Hypothesis'"
      ]
     },
     "execution_count": 9,
     "metadata": {},
     "output_type": "execute_result"
    }
   ],
   "source": [
    "chi_square_test('contractLength')"
   ]
  },
  {
   "cell_type": "markdown",
   "metadata": {},
   "source": [
    "The length of their contract, influences whether or not they churned."
   ]
  },
  {
   "cell_type": "markdown",
   "metadata": {},
   "source": [
    "For the feature `contractSize` is a continuous input variable. A hypothesis test to measure this would take a continuous input variable and calculate its influence on a categorical response variable (whether or not they churned).\n",
    "\n",
    "One solution to this problem is bootstraping the difference between the average contract size of those who churned and the average contract size of those who didn't churn.\n",
    "\n",
    "That is, we find the actual difference between the mean contractsizes of the two groups, and save it. Then we scramble the set many times, on each time, save the simulated mean contract size difference. \n",
    "\n",
    "If only a tiny fraction of simulated mean differences are more extreme than the observed one, we can reject the null hypothesis and say that `dontractSize` influences whether or not a customer churned."
   ]
  },
  {
   "cell_type": "code",
   "execution_count": 11,
   "metadata": {},
   "outputs": [
    {
     "name": "stdout",
     "output_type": "stream",
     "text": [
      "contractSize\n",
      "Reject Null Hypothesis\n",
      "p =  0.004\n"
     ]
    }
   ],
   "source": [
    "from sklearn.utils import shuffle\n",
    "\n",
    "df = data.sort_values(by='churn',ascending=True).reset_index().drop('index',axis=1)\n",
    "class_0_max = max(df.loc[df['churn']==0].index)+1\n",
    "\n",
    "feature='contractSize'\n",
    "\n",
    "\n",
    "\n",
    "def mean_diff(data,column):\n",
    "    mean_p = np.mean(data[data['churn']==1][column])\n",
    "    mean_e = np.mean(data[data['churn']==0][column])\n",
    "    return mean_e - mean_p\n",
    "\n",
    "number_of_permutations = 1000\n",
    "\n",
    "original_mean_diff = mean_diff(df,feature)\n",
    "\n",
    "def permutate_mean_differences(data,column,number_of_permutations):\n",
    "    means = []\n",
    "    for i in range(number_of_permutations):\n",
    "        permutation = shuffle(data[column],random_state=i)\n",
    "        a = np.mean(permutation.loc[:class_0_max])\n",
    "        b = np.mean(permutation.loc[class_0_max:])\n",
    "        means.append(a-b)\n",
    "    return pd.DataFrame(means,columns=['means'])\n",
    "\n",
    "\n",
    "permutate_mean_differences(df,feature,number_of_permutations)\n",
    "\n",
    "\n",
    "_ = permutate_mean_differences(df,feature,number_of_permutations)\n",
    "print(feature)\n",
    "if original_mean_diff>0:\n",
    "    p = np.sum(_['means'] >= original_mean_diff) / number_of_permutations\n",
    "    print('Reject Null Hypothesis')\n",
    "    print('p = ',p)\n",
    "elif original_mean_diff<0:\n",
    "    p = np.sum(_['means'] <= original_mean_diff) / number_of_permutations\n",
    "    print('Reject Null Hypothesis')\n",
    "    print('p = ',p)\n",
    "else:\n",
    "    print('Fail to Reject Null Hypothesis')\n",
    "if p>0.05:\n",
    "    print('Fail to Reject Null Hypothesis')"
   ]
  },
  {
   "cell_type": "markdown",
   "metadata": {},
   "source": [
    "So this means that only 0.4% of simulated mean differences were more extreme than the observed value, thus it's 99% certain that contractSize influenced Churn rate."
   ]
  }
 ],
 "metadata": {
  "kernelspec": {
   "display_name": "Python 3",
   "language": "python",
   "name": "python3"
  },
  "language_info": {
   "codemirror_mode": {
    "name": "ipython",
    "version": 3
   },
   "file_extension": ".py",
   "mimetype": "text/x-python",
   "name": "python",
   "nbconvert_exporter": "python",
   "pygments_lexer": "ipython3",
   "version": "3.6.4"
  }
 },
 "nbformat": 4,
 "nbformat_minor": 2
}
